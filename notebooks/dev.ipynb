{
 "cells": [
  {
   "cell_type": "code",
   "execution_count": 1,
   "metadata": {},
   "outputs": [],
   "source": [
    "import json\n",
    "import os\n",
    "import numpy as np\n",
    "import pandas as pd\n",
    "import matplotlib.pyplot as plt\n",
    "import wandb"
   ]
  },
  {
   "cell_type": "code",
   "execution_count": 2,
   "metadata": {},
   "outputs": [
    {
     "name": "stderr",
     "output_type": "stream",
     "text": [
      "Failed to detect the name of this notebook, you can set it manually with the WANDB_NOTEBOOK_NAME environment variable to enable code saving.\n",
      "\u001b[34m\u001b[1mwandb\u001b[0m: Currently logged in as: \u001b[33mduktig\u001b[0m. Use \u001b[1m`wandb login --relogin`\u001b[0m to force relogin\n"
     ]
    },
    {
     "data": {
      "text/html": [
       "wandb version 0.16.2 is available!  To upgrade, please run:\n",
       " $ pip install wandb --upgrade"
      ],
      "text/plain": [
       "<IPython.core.display.HTML object>"
      ]
     },
     "metadata": {},
     "output_type": "display_data"
    },
    {
     "data": {
      "text/html": [
       "Tracking run with wandb version 0.16.1"
      ],
      "text/plain": [
       "<IPython.core.display.HTML object>"
      ]
     },
     "metadata": {},
     "output_type": "display_data"
    },
    {
     "data": {
      "text/html": [
       "Run data is saved locally in <code>/scratch/work/krylovs1/ml-equivariant-neural-rendering/notebooks/wandb/run-20240122_114102-rjswedbb</code>"
      ],
      "text/plain": [
       "<IPython.core.display.HTML object>"
      ]
     },
     "metadata": {},
     "output_type": "display_data"
    },
    {
     "data": {
      "text/html": [
       "Syncing run <strong><a href='https://wandb.ai/duktig/uncategorized/runs/rjswedbb' target=\"_blank\">whole-morning-49</a></strong> to <a href='https://wandb.ai/duktig/uncategorized' target=\"_blank\">Weights & Biases</a> (<a href='https://wandb.me/run' target=\"_blank\">docs</a>)<br/>"
      ],
      "text/plain": [
       "<IPython.core.display.HTML object>"
      ]
     },
     "metadata": {},
     "output_type": "display_data"
    },
    {
     "data": {
      "text/html": [
       " View project at <a href='https://wandb.ai/duktig/uncategorized' target=\"_blank\">https://wandb.ai/duktig/uncategorized</a>"
      ],
      "text/plain": [
       "<IPython.core.display.HTML object>"
      ]
     },
     "metadata": {},
     "output_type": "display_data"
    },
    {
     "data": {
      "text/html": [
       " View run at <a href='https://wandb.ai/duktig/uncategorized/runs/rjswedbb' target=\"_blank\">https://wandb.ai/duktig/uncategorized/runs/rjswedbb</a>"
      ],
      "text/plain": [
       "<IPython.core.display.HTML object>"
      ]
     },
     "metadata": {},
     "output_type": "display_data"
    },
    {
     "name": "stderr",
     "output_type": "stream",
     "text": [
      "\u001b[34m\u001b[1mwandb\u001b[0m: Downloading large artifact run-j2v10sdx-result:v0, 20.35MB. 6145 files... \n",
      "\u001b[34m\u001b[1mwandb\u001b[0m:   6145 of 6145 files downloaded.  \n",
      "Done. 0:0:15.8\n"
     ]
    }
   ],
   "source": [
    "run = wandb.init()\n",
    "\n",
    "artifact_name = \"duktig/same-different-shape-classifier/run-j2v10sdx-result:v0\"\n",
    "\n",
    "artifact = run.use_artifact(artifact_name, type='run_table')\n",
    "artifact_dir = artifact.download()"
   ]
  },
  {
   "cell_type": "code",
   "execution_count": 3,
   "metadata": {},
   "outputs": [],
   "source": [
    "with open(\n",
    "    os.path.join(artifact_dir, \"result.table.json\"),\n",
    "    \"r\",\n",
    "    encoding=\"utf-8\"\n",
    ") as reader:\n",
    "    table = json.load(reader)"
   ]
  },
  {
   "cell_type": "code",
   "execution_count": 4,
   "metadata": {},
   "outputs": [
    {
     "data": {
      "text/html": [
       "<div>\n",
       "<style scoped>\n",
       "    .dataframe tbody tr th:only-of-type {\n",
       "        vertical-align: middle;\n",
       "    }\n",
       "\n",
       "    .dataframe tbody tr th {\n",
       "        vertical-align: top;\n",
       "    }\n",
       "\n",
       "    .dataframe thead th {\n",
       "        text-align: right;\n",
       "    }\n",
       "</style>\n",
       "<table border=\"1\" class=\"dataframe\">\n",
       "  <thead>\n",
       "    <tr style=\"text-align: right;\">\n",
       "      <th></th>\n",
       "      <th>source</th>\n",
       "      <th>target</th>\n",
       "      <th>matched</th>\n",
       "      <th>phi_source</th>\n",
       "      <th>phi_target</th>\n",
       "      <th>phi_estimated</th>\n",
       "      <th>mse_score</th>\n",
       "      <th>steps</th>\n",
       "      <th>prediction</th>\n",
       "      <th>label</th>\n",
       "    </tr>\n",
       "  </thead>\n",
       "  <tbody>\n",
       "    <tr>\n",
       "      <th>0</th>\n",
       "      <td>{'_type': 'image-file', 'format': 'png', 'heig...</td>\n",
       "      <td>{'_type': 'image-file', 'format': 'png', 'heig...</td>\n",
       "      <td>{'_type': 'image-file', 'format': 'png', 'heig...</td>\n",
       "      <td>-103.306725</td>\n",
       "      <td>-40.535589</td>\n",
       "      <td>-40.894664</td>\n",
       "      <td>0.003143</td>\n",
       "      <td>7</td>\n",
       "      <td>1</td>\n",
       "      <td>1.0</td>\n",
       "    </tr>\n",
       "    <tr>\n",
       "      <th>1</th>\n",
       "      <td>{'_type': 'image-file', 'format': 'png', 'heig...</td>\n",
       "      <td>{'_type': 'image-file', 'format': 'png', 'heig...</td>\n",
       "      <td>{'_type': 'image-file', 'format': 'png', 'heig...</td>\n",
       "      <td>-15.424129</td>\n",
       "      <td>15.862781</td>\n",
       "      <td>14.425117</td>\n",
       "      <td>0.001989</td>\n",
       "      <td>7</td>\n",
       "      <td>1</td>\n",
       "      <td>1.0</td>\n",
       "    </tr>\n",
       "    <tr>\n",
       "      <th>2</th>\n",
       "      <td>{'_type': 'image-file', 'format': 'png', 'heig...</td>\n",
       "      <td>{'_type': 'image-file', 'format': 'png', 'heig...</td>\n",
       "      <td>{'_type': 'image-file', 'format': 'png', 'heig...</td>\n",
       "      <td>9.766166</td>\n",
       "      <td>30.074960</td>\n",
       "      <td>32.379231</td>\n",
       "      <td>0.011763</td>\n",
       "      <td>6</td>\n",
       "      <td>0</td>\n",
       "      <td>1.0</td>\n",
       "    </tr>\n",
       "    <tr>\n",
       "      <th>3</th>\n",
       "      <td>{'_type': 'image-file', 'format': 'png', 'heig...</td>\n",
       "      <td>{'_type': 'image-file', 'format': 'png', 'heig...</td>\n",
       "      <td>{'_type': 'image-file', 'format': 'png', 'heig...</td>\n",
       "      <td>202.392975</td>\n",
       "      <td>63.227120</td>\n",
       "      <td>64.001015</td>\n",
       "      <td>0.004218</td>\n",
       "      <td>10</td>\n",
       "      <td>1</td>\n",
       "      <td>1.0</td>\n",
       "    </tr>\n",
       "    <tr>\n",
       "      <th>4</th>\n",
       "      <td>{'_type': 'image-file', 'format': 'png', 'heig...</td>\n",
       "      <td>{'_type': 'image-file', 'format': 'png', 'heig...</td>\n",
       "      <td>{'_type': 'image-file', 'format': 'png', 'heig...</td>\n",
       "      <td>-129.597046</td>\n",
       "      <td>-60.789057</td>\n",
       "      <td>-61.757850</td>\n",
       "      <td>0.001883</td>\n",
       "      <td>10</td>\n",
       "      <td>1</td>\n",
       "      <td>1.0</td>\n",
       "    </tr>\n",
       "    <tr>\n",
       "      <th>...</th>\n",
       "      <td>...</td>\n",
       "      <td>...</td>\n",
       "      <td>...</td>\n",
       "      <td>...</td>\n",
       "      <td>...</td>\n",
       "      <td>...</td>\n",
       "      <td>...</td>\n",
       "      <td>...</td>\n",
       "      <td>...</td>\n",
       "      <td>...</td>\n",
       "    </tr>\n",
       "    <tr>\n",
       "      <th>2043</th>\n",
       "      <td>{'_type': 'image-file', 'format': 'png', 'heig...</td>\n",
       "      <td>{'_type': 'image-file', 'format': 'png', 'heig...</td>\n",
       "      <td>{'_type': 'image-file', 'format': 'png', 'heig...</td>\n",
       "      <td>-135.412460</td>\n",
       "      <td>-58.289935</td>\n",
       "      <td>-185.161204</td>\n",
       "      <td>0.022855</td>\n",
       "      <td>10</td>\n",
       "      <td>0</td>\n",
       "      <td>0.0</td>\n",
       "    </tr>\n",
       "    <tr>\n",
       "      <th>2044</th>\n",
       "      <td>{'_type': 'image-file', 'format': 'png', 'heig...</td>\n",
       "      <td>{'_type': 'image-file', 'format': 'png', 'heig...</td>\n",
       "      <td>{'_type': 'image-file', 'format': 'png', 'heig...</td>\n",
       "      <td>-210.569366</td>\n",
       "      <td>-71.535625</td>\n",
       "      <td>-347.152281</td>\n",
       "      <td>0.026171</td>\n",
       "      <td>26</td>\n",
       "      <td>0</td>\n",
       "      <td>0.0</td>\n",
       "    </tr>\n",
       "    <tr>\n",
       "      <th>2045</th>\n",
       "      <td>{'_type': 'image-file', 'format': 'png', 'heig...</td>\n",
       "      <td>{'_type': 'image-file', 'format': 'png', 'heig...</td>\n",
       "      <td>{'_type': 'image-file', 'format': 'png', 'heig...</td>\n",
       "      <td>118.816780</td>\n",
       "      <td>74.242580</td>\n",
       "      <td>172.183614</td>\n",
       "      <td>0.023757</td>\n",
       "      <td>20</td>\n",
       "      <td>0</td>\n",
       "      <td>0.0</td>\n",
       "    </tr>\n",
       "    <tr>\n",
       "      <th>2046</th>\n",
       "      <td>{'_type': 'image-file', 'format': 'png', 'heig...</td>\n",
       "      <td>{'_type': 'image-file', 'format': 'png', 'heig...</td>\n",
       "      <td>{'_type': 'image-file', 'format': 'png', 'heig...</td>\n",
       "      <td>-32.533459</td>\n",
       "      <td>-70.243968</td>\n",
       "      <td>-203.488233</td>\n",
       "      <td>0.028819</td>\n",
       "      <td>27</td>\n",
       "      <td>0</td>\n",
       "      <td>0.0</td>\n",
       "    </tr>\n",
       "    <tr>\n",
       "      <th>2047</th>\n",
       "      <td>{'_type': 'image-file', 'format': 'png', 'heig...</td>\n",
       "      <td>{'_type': 'image-file', 'format': 'png', 'heig...</td>\n",
       "      <td>{'_type': 'image-file', 'format': 'png', 'heig...</td>\n",
       "      <td>-38.408440</td>\n",
       "      <td>73.197537</td>\n",
       "      <td>2.295078</td>\n",
       "      <td>0.029544</td>\n",
       "      <td>13</td>\n",
       "      <td>0</td>\n",
       "      <td>0.0</td>\n",
       "    </tr>\n",
       "  </tbody>\n",
       "</table>\n",
       "<p>2048 rows × 10 columns</p>\n",
       "</div>"
      ],
      "text/plain": [
       "                                                 source  \\\n",
       "0     {'_type': 'image-file', 'format': 'png', 'heig...   \n",
       "1     {'_type': 'image-file', 'format': 'png', 'heig...   \n",
       "2     {'_type': 'image-file', 'format': 'png', 'heig...   \n",
       "3     {'_type': 'image-file', 'format': 'png', 'heig...   \n",
       "4     {'_type': 'image-file', 'format': 'png', 'heig...   \n",
       "...                                                 ...   \n",
       "2043  {'_type': 'image-file', 'format': 'png', 'heig...   \n",
       "2044  {'_type': 'image-file', 'format': 'png', 'heig...   \n",
       "2045  {'_type': 'image-file', 'format': 'png', 'heig...   \n",
       "2046  {'_type': 'image-file', 'format': 'png', 'heig...   \n",
       "2047  {'_type': 'image-file', 'format': 'png', 'heig...   \n",
       "\n",
       "                                                 target  \\\n",
       "0     {'_type': 'image-file', 'format': 'png', 'heig...   \n",
       "1     {'_type': 'image-file', 'format': 'png', 'heig...   \n",
       "2     {'_type': 'image-file', 'format': 'png', 'heig...   \n",
       "3     {'_type': 'image-file', 'format': 'png', 'heig...   \n",
       "4     {'_type': 'image-file', 'format': 'png', 'heig...   \n",
       "...                                                 ...   \n",
       "2043  {'_type': 'image-file', 'format': 'png', 'heig...   \n",
       "2044  {'_type': 'image-file', 'format': 'png', 'heig...   \n",
       "2045  {'_type': 'image-file', 'format': 'png', 'heig...   \n",
       "2046  {'_type': 'image-file', 'format': 'png', 'heig...   \n",
       "2047  {'_type': 'image-file', 'format': 'png', 'heig...   \n",
       "\n",
       "                                                matched  phi_source  \\\n",
       "0     {'_type': 'image-file', 'format': 'png', 'heig... -103.306725   \n",
       "1     {'_type': 'image-file', 'format': 'png', 'heig...  -15.424129   \n",
       "2     {'_type': 'image-file', 'format': 'png', 'heig...    9.766166   \n",
       "3     {'_type': 'image-file', 'format': 'png', 'heig...  202.392975   \n",
       "4     {'_type': 'image-file', 'format': 'png', 'heig... -129.597046   \n",
       "...                                                 ...         ...   \n",
       "2043  {'_type': 'image-file', 'format': 'png', 'heig... -135.412460   \n",
       "2044  {'_type': 'image-file', 'format': 'png', 'heig... -210.569366   \n",
       "2045  {'_type': 'image-file', 'format': 'png', 'heig...  118.816780   \n",
       "2046  {'_type': 'image-file', 'format': 'png', 'heig...  -32.533459   \n",
       "2047  {'_type': 'image-file', 'format': 'png', 'heig...  -38.408440   \n",
       "\n",
       "      phi_target  phi_estimated  mse_score  steps  prediction  label  \n",
       "0     -40.535589     -40.894664   0.003143      7           1    1.0  \n",
       "1      15.862781      14.425117   0.001989      7           1    1.0  \n",
       "2      30.074960      32.379231   0.011763      6           0    1.0  \n",
       "3      63.227120      64.001015   0.004218     10           1    1.0  \n",
       "4     -60.789057     -61.757850   0.001883     10           1    1.0  \n",
       "...          ...            ...        ...    ...         ...    ...  \n",
       "2043  -58.289935    -185.161204   0.022855     10           0    0.0  \n",
       "2044  -71.535625    -347.152281   0.026171     26           0    0.0  \n",
       "2045   74.242580     172.183614   0.023757     20           0    0.0  \n",
       "2046  -70.243968    -203.488233   0.028819     27           0    0.0  \n",
       "2047   73.197537       2.295078   0.029544     13           0    0.0  \n",
       "\n",
       "[2048 rows x 10 columns]"
      ]
     },
     "execution_count": 4,
     "metadata": {},
     "output_type": "execute_result"
    }
   ],
   "source": [
    "res = pd.DataFrame(table[\"data\"], columns=table[\"columns\"])\n",
    "res"
   ]
  },
  {
   "cell_type": "code",
   "execution_count": 5,
   "metadata": {},
   "outputs": [],
   "source": [
    "res.drop(columns=[\"source\", \"target\", \"matched\"], inplace=True)"
   ]
  },
  {
   "cell_type": "code",
   "execution_count": 6,
   "metadata": {},
   "outputs": [
    {
     "name": "stdout",
     "output_type": "stream",
     "text": [
      "Accuracy: 96.68%\n"
     ]
    }
   ],
   "source": [
    "print(f\"Accuracy: {100 * np.sum(res['prediction'] == res['label']) / len(res):.2f}%\")"
   ]
  },
  {
   "cell_type": "code",
   "execution_count": 7,
   "metadata": {},
   "outputs": [
    {
     "data": {
      "image/png": "[encoded data removed]",
      "text/plain": [
       "<Figure size 500x500 with 1 Axes>"
      ]
     },
     "metadata": {},
     "output_type": "display_data"
    }
   ],
   "source": [
    "from sklearn import metrics\n",
    "import seaborn as sns\n",
    "\n",
    "\n",
    "cm = metrics.confusion_matrix(res['label'], res['prediction'])\n",
    "\n",
    "figure, axis = plt.subplots(figsize=(5, 5))\n",
    "\n",
    "sns.heatmap(\n",
    "    cm,\n",
    "    annot=True,\n",
    "    fmt=\"d\",\n",
    "    cmap=plt.cm.Blues,\n",
    "    linecolor=\"black\",\n",
    "    linewidths=1.,\n",
    "    cbar=False,\n",
    "    xticklabels=(\"Different: 0\", \"Same: 1\"),\n",
    "    yticklabels=(\"Different: 0\", \"Same: 1\"),\n",
    "    ax=axis\n",
    ")\n",
    "\n",
    "axis.set_xlabel(\"Predicted label\", fontsize=12)\n",
    "axis.set_ylabel(\"True label\", fontsize=12);"
   ]
  },
  {
   "cell_type": "code",
   "execution_count": 8,
   "metadata": {},
   "outputs": [],
   "source": [
    "res[\"rotation\"] = abs(round(res[\"phi_target\"] - res[\"phi_source\"]))"
   ]
  },
  {
   "cell_type": "code",
   "execution_count": 9,
   "metadata": {},
   "outputs": [],
   "source": [
    "correct = res[res['prediction'] == res['label']].reset_index()"
   ]
  },
  {
   "cell_type": "code",
   "execution_count": 10,
   "metadata": {},
   "outputs": [],
   "source": [
    "BIN_LABELS = (0, 50, 100, 150)"
   ]
  },
  {
   "cell_type": "code",
   "execution_count": 11,
   "metadata": {},
   "outputs": [
    {
     "data": {
      "text/html": [
       "<div>\n",
       "<style scoped>\n",
       "    .dataframe tbody tr th:only-of-type {\n",
       "        vertical-align: middle;\n",
       "    }\n",
       "\n",
       "    .dataframe tbody tr th {\n",
       "        vertical-align: top;\n",
       "    }\n",
       "\n",
       "    .dataframe thead th {\n",
       "        text-align: right;\n",
       "    }\n",
       "</style>\n",
       "<table border=\"1\" class=\"dataframe\">\n",
       "  <thead>\n",
       "    <tr style=\"text-align: right;\">\n",
       "      <th></th>\n",
       "      <th>index</th>\n",
       "      <th>phi_source</th>\n",
       "      <th>phi_target</th>\n",
       "      <th>phi_estimated</th>\n",
       "      <th>mse_score</th>\n",
       "      <th>steps</th>\n",
       "      <th>prediction</th>\n",
       "      <th>label</th>\n",
       "      <th>rotation</th>\n",
       "      <th>bin</th>\n",
       "    </tr>\n",
       "  </thead>\n",
       "  <tbody>\n",
       "    <tr>\n",
       "      <th>0</th>\n",
       "      <td>0</td>\n",
       "      <td>-103.306725</td>\n",
       "      <td>-40.535589</td>\n",
       "      <td>-40.894664</td>\n",
       "      <td>0.003143</td>\n",
       "      <td>7</td>\n",
       "      <td>1</td>\n",
       "      <td>1.0</td>\n",
       "      <td>63.0</td>\n",
       "      <td>50</td>\n",
       "    </tr>\n",
       "    <tr>\n",
       "      <th>1</th>\n",
       "      <td>1</td>\n",
       "      <td>-15.424129</td>\n",
       "      <td>15.862781</td>\n",
       "      <td>14.425117</td>\n",
       "      <td>0.001989</td>\n",
       "      <td>7</td>\n",
       "      <td>1</td>\n",
       "      <td>1.0</td>\n",
       "      <td>31.0</td>\n",
       "      <td>0</td>\n",
       "    </tr>\n",
       "    <tr>\n",
       "      <th>2</th>\n",
       "      <td>3</td>\n",
       "      <td>202.392975</td>\n",
       "      <td>63.227120</td>\n",
       "      <td>64.001015</td>\n",
       "      <td>0.004218</td>\n",
       "      <td>10</td>\n",
       "      <td>1</td>\n",
       "      <td>1.0</td>\n",
       "      <td>139.0</td>\n",
       "      <td>150</td>\n",
       "    </tr>\n",
       "    <tr>\n",
       "      <th>3</th>\n",
       "      <td>4</td>\n",
       "      <td>-129.597046</td>\n",
       "      <td>-60.789057</td>\n",
       "      <td>-61.757850</td>\n",
       "      <td>0.001883</td>\n",
       "      <td>10</td>\n",
       "      <td>1</td>\n",
       "      <td>1.0</td>\n",
       "      <td>69.0</td>\n",
       "      <td>50</td>\n",
       "    </tr>\n",
       "    <tr>\n",
       "      <th>4</th>\n",
       "      <td>5</td>\n",
       "      <td>50.900921</td>\n",
       "      <td>-62.535478</td>\n",
       "      <td>-62.164406</td>\n",
       "      <td>0.001531</td>\n",
       "      <td>10</td>\n",
       "      <td>1</td>\n",
       "      <td>1.0</td>\n",
       "      <td>113.0</td>\n",
       "      <td>100</td>\n",
       "    </tr>\n",
       "    <tr>\n",
       "      <th>...</th>\n",
       "      <td>...</td>\n",
       "      <td>...</td>\n",
       "      <td>...</td>\n",
       "      <td>...</td>\n",
       "      <td>...</td>\n",
       "      <td>...</td>\n",
       "      <td>...</td>\n",
       "      <td>...</td>\n",
       "      <td>...</td>\n",
       "      <td>...</td>\n",
       "    </tr>\n",
       "    <tr>\n",
       "      <th>1975</th>\n",
       "      <td>2043</td>\n",
       "      <td>-135.412460</td>\n",
       "      <td>-58.289935</td>\n",
       "      <td>-185.161204</td>\n",
       "      <td>0.022855</td>\n",
       "      <td>10</td>\n",
       "      <td>0</td>\n",
       "      <td>0.0</td>\n",
       "      <td>77.0</td>\n",
       "      <td>50</td>\n",
       "    </tr>\n",
       "    <tr>\n",
       "      <th>1976</th>\n",
       "      <td>2044</td>\n",
       "      <td>-210.569366</td>\n",
       "      <td>-71.535625</td>\n",
       "      <td>-347.152281</td>\n",
       "      <td>0.026171</td>\n",
       "      <td>26</td>\n",
       "      <td>0</td>\n",
       "      <td>0.0</td>\n",
       "      <td>139.0</td>\n",
       "      <td>150</td>\n",
       "    </tr>\n",
       "    <tr>\n",
       "      <th>1977</th>\n",
       "      <td>2045</td>\n",
       "      <td>118.816780</td>\n",
       "      <td>74.242580</td>\n",
       "      <td>172.183614</td>\n",
       "      <td>0.023757</td>\n",
       "      <td>20</td>\n",
       "      <td>0</td>\n",
       "      <td>0.0</td>\n",
       "      <td>45.0</td>\n",
       "      <td>0</td>\n",
       "    </tr>\n",
       "    <tr>\n",
       "      <th>1978</th>\n",
       "      <td>2046</td>\n",
       "      <td>-32.533459</td>\n",
       "      <td>-70.243968</td>\n",
       "      <td>-203.488233</td>\n",
       "      <td>0.028819</td>\n",
       "      <td>27</td>\n",
       "      <td>0</td>\n",
       "      <td>0.0</td>\n",
       "      <td>38.0</td>\n",
       "      <td>0</td>\n",
       "    </tr>\n",
       "    <tr>\n",
       "      <th>1979</th>\n",
       "      <td>2047</td>\n",
       "      <td>-38.408440</td>\n",
       "      <td>73.197537</td>\n",
       "      <td>2.295078</td>\n",
       "      <td>0.029544</td>\n",
       "      <td>13</td>\n",
       "      <td>0</td>\n",
       "      <td>0.0</td>\n",
       "      <td>112.0</td>\n",
       "      <td>100</td>\n",
       "    </tr>\n",
       "  </tbody>\n",
       "</table>\n",
       "<p>1980 rows × 10 columns</p>\n",
       "</div>"
      ],
      "text/plain": [
       "      index  phi_source  phi_target  phi_estimated  mse_score  steps  \\\n",
       "0         0 -103.306725  -40.535589     -40.894664   0.003143      7   \n",
       "1         1  -15.424129   15.862781      14.425117   0.001989      7   \n",
       "2         3  202.392975   63.227120      64.001015   0.004218     10   \n",
       "3         4 -129.597046  -60.789057     -61.757850   0.001883     10   \n",
       "4         5   50.900921  -62.535478     -62.164406   0.001531     10   \n",
       "...     ...         ...         ...            ...        ...    ...   \n",
       "1975   2043 -135.412460  -58.289935    -185.161204   0.022855     10   \n",
       "1976   2044 -210.569366  -71.535625    -347.152281   0.026171     26   \n",
       "1977   2045  118.816780   74.242580     172.183614   0.023757     20   \n",
       "1978   2046  -32.533459  -70.243968    -203.488233   0.028819     27   \n",
       "1979   2047  -38.408440   73.197537       2.295078   0.029544     13   \n",
       "\n",
       "      prediction  label  rotation  bin  \n",
       "0              1    1.0      63.0   50  \n",
       "1              1    1.0      31.0    0  \n",
       "2              1    1.0     139.0  150  \n",
       "3              1    1.0      69.0   50  \n",
       "4              1    1.0     113.0  100  \n",
       "...          ...    ...       ...  ...  \n",
       "1975           0    0.0      77.0   50  \n",
       "1976           0    0.0     139.0  150  \n",
       "1977           0    0.0      45.0    0  \n",
       "1978           0    0.0      38.0    0  \n",
       "1979           0    0.0     112.0  100  \n",
       "\n",
       "[1980 rows x 10 columns]"
      ]
     },
     "execution_count": 11,
     "metadata": {},
     "output_type": "execute_result"
    }
   ],
   "source": [
    "correct[\"bin\"] = pd.cut(correct[\"rotation\"], bins=[0, 45, 90, 135, 180], labels=BIN_LABELS)\n",
    "correct"
   ]
  },
  {
   "cell_type": "code",
   "execution_count": 12,
   "metadata": {},
   "outputs": [],
   "source": [
    "n_bins = round(np.sqrt(np.mean([np.sum(correct[\"bin\"] == label) for label in BIN_LABELS])))\n",
    "_, bins = np.histogram(correct[\"steps\"], density=False, bins=n_bins)\n",
    "\n",
    "bin_width = np.diff(bins)[0]\n",
    "bin_pos =(bins[:-1] + bin_width / 2)"
   ]
  },
  {
   "cell_type": "code",
   "execution_count": 13,
   "metadata": {},
   "outputs": [],
   "source": [
    "def barplot(bins, data, axis):\n",
    "    for label, sign, color in zip((1, 0), (1, -1), (plt.cm.tab20.colors[1], plt.cm.tab20.colors[3])):\n",
    "        heights, _ = np.histogram(data[data[\"label\"] == label][\"steps\"], bins=bins, density=False)\n",
    "        heights *= sign\n",
    "        \n",
    "        axis.barh(bin_pos, heights, height=bin_width, color=color, edgecolor=\"k\")\n",
    "        \n",
    "\n",
    "\n",
    "def meanplot(data, axis):\n",
    "    for label, color in zip((1, 0), (plt.cm.tab20.colors[0], plt.cm.tab20.colors[2])):\n",
    "        axis.scatter(0, np.mean(data[data[\"label\"] == label][\"steps\"]), color=color, s=150, marker=\"X\", edgecolors=\"black\")"
   ]
  },
  {
   "cell_type": "code",
   "execution_count": 14,
   "metadata": {},
   "outputs": [
    {
     "data": {
      "image/png": "[encoded data removed]",
      "text/plain": [
       "<Figure size 1800x800 with 4 Axes>"
      ]
     },
     "metadata": {},
     "output_type": "display_data"
    }
   ],
   "source": [
    "fig, axes = plt.subplots(1, 4, figsize=(18, 8), sharey=True, layout=\"tight\")\n",
    "\n",
    "REACT_TIME_MIN = 0\n",
    "REACT_TIME_MAX = 50\n",
    "\n",
    "axes[0].set_ylim(REACT_TIME_MIN, REACT_TIME_MAX + 3)\n",
    "axes[0].set_yticks(np.arange(REACT_TIME_MIN, REACT_TIME_MAX + 3, 5))\n",
    "axes[0].set_ylabel(\"Reaction time (# steps)\", fontsize=14)\n",
    "\n",
    "for idx, label in enumerate(BIN_LABELS):\n",
    "    barplot(bins, correct[correct[\"bin\"] == label], axes[idx])\n",
    "    meanplot(correct[correct[\"bin\"] == label], axes[idx])\n",
    "\n",
    "   # axes[idx].set_xticklabels([-val if val < 0 else val for val in np.arange(-10, 30, 5)])\n",
    "    axes[idx].set_xlabel(\"Count\", fontsize=14)\n",
    "    axes[idx].set_title(f\"{label:.0f}\", fontsize=12)\n",
    "\n",
    "    axes[idx].grid(zorder=-10, alpha=0.6)\n",
    "\n",
    "\n",
    "fig.suptitle(\"Reaction time histograms: same (blue) vs different (orange)\", fontsize=16);"
   ]
  }
 ],
 "metadata": {
  "kernelspec": {
   "display_name": "Python 3",
   "language": "python",
   "name": "python3"
  },
  "language_info": {
   "codemirror_mode": {
    "name": "ipython",
    "version": 3
   },
   "file_extension": ".py",
   "mimetype": "text/x-python",
   "name": "python",
   "nbconvert_exporter": "python",
   "pygments_lexer": "ipython3",
   "version": "3.8.18"
  },
  "orig_nbformat": 4
 },
 "nbformat": 4,
 "nbformat_minor": 2
}
